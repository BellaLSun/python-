{
 "cells": [
  {
   "cell_type": "code",
   "execution_count": 2,
   "metadata": {
    "ExecuteTime": {
     "end_time": "2020-07-01T16:47:57.288753Z",
     "start_time": "2020-07-01T16:47:57.266693Z"
    }
   },
   "outputs": [],
   "source": [
    "import pandas as pd\n",
    "import numpy as np"
   ]
  },
  {
   "cell_type": "markdown",
   "metadata": {},
   "source": [
    "有N个位置，分别编号为1-N，每个位置上放置着一个杯口朝上的杯子，接下来我们要进行N次操作，第i（1≤i≤N）次操作是这样的：将i的倍数(j)位置上的杯子翻转一下。\n",
    "\n",
    "问题1：N次操作之后，还剩多少个杯子杯口朝上？用Python定义一个函数func()并打印出N=100时候的函数值func(100)"
   ]
  },
  {
   "cell_type": "markdown",
   "metadata": {},
   "source": [
    "# way1"
   ]
  },
  {
   "cell_type": "code",
   "execution_count": 31,
   "metadata": {
    "ExecuteTime": {
     "end_time": "2020-07-01T16:57:49.237742Z",
     "start_time": "2020-07-01T16:57:49.205585Z"
    }
   },
   "outputs": [
    {
     "data": {
      "text/plain": [
       "array([1., 1., 1., 1., 1., 1., 1., 1., 1., 1., 1., 1., 1., 1., 1., 1., 1.,\n",
       "       1., 1., 1., 1., 1., 1., 1., 1., 1., 1., 1., 1., 1., 1., 1., 1., 1.,\n",
       "       1., 1., 1., 1., 1., 1., 1., 1., 1., 1., 1., 1., 1., 1., 1., 1., 1.,\n",
       "       1., 1., 1., 1., 1., 1., 1., 1., 1., 1., 1., 1., 1., 1., 1., 1., 1.,\n",
       "       1., 1., 1., 1., 1., 1., 1., 1., 1., 1., 1., 1., 1., 1., 1., 1., 1.,\n",
       "       1., 1., 1., 1., 1., 1., 1., 1., 1., 1., 1., 1., 1., 1., 1.])"
      ]
     },
     "execution_count": 31,
     "metadata": {},
     "output_type": "execute_result"
    }
   ],
   "source": [
    "data = np.ones(100)\n",
    "data "
   ]
  },
  {
   "cell_type": "code",
   "execution_count": 32,
   "metadata": {
    "ExecuteTime": {
     "end_time": "2020-07-01T16:57:49.535187Z",
     "start_time": "2020-07-01T16:57:49.520784Z"
    }
   },
   "outputs": [],
   "source": [
    "def func():\n",
    "    for i in range(1,len(data)):\n",
    "        for j in range(0,len(data)):\n",
    "            if j%i == 0:\n",
    "                data[j] =  data[j] * (-1)\n",
    "            else:\n",
    "                data[j] =  data[j]\n",
    "    return pd.DataFrame({'data':data})['data'].value_counts()"
   ]
  },
  {
   "cell_type": "code",
   "execution_count": 33,
   "metadata": {
    "ExecuteTime": {
     "end_time": "2020-07-01T16:57:49.865363Z",
     "start_time": "2020-07-01T16:57:49.842318Z"
    }
   },
   "outputs": [
    {
     "data": {
      "text/plain": [
       " 1.0    90\n",
       "-1.0    10\n",
       "Name: data, dtype: int64"
      ]
     },
     "execution_count": 33,
     "metadata": {},
     "output_type": "execute_result"
    }
   ],
   "source": [
    "func()"
   ]
  },
  {
   "cell_type": "markdown",
   "metadata": {},
   "source": [
    "**主要⚠️**\n",
    "\n",
    "- 理解题意：i的倍数，其实就是在第一次循环的基础上，再循环遍历一遍找到i的倍数（index），并将其索引上的值乘以-1\n",
    "\n",
    "- 不可以用while而是if：因为当while后的条件成立时，会一直无限循环执行\n",
    "\n",
    "- 倍数就是%取余=0"
   ]
  },
  {
   "cell_type": "markdown",
   "metadata": {},
   "source": [
    "# way2"
   ]
  },
  {
   "cell_type": "code",
   "execution_count": 3,
   "metadata": {},
   "outputs": [],
   "source": [
    "def func(n):\n",
    "    dic = {m:-1 for m in range(1,n)}\n",
    "    for i in range(1,n+1):\n",
    "        for n in dic:\n",
    "            if n%i == 0:\n",
    "                dic[n] = int(dic[n])*(-1)\n",
    "    \n",
    "    num = 0\n",
    "    for m,n in dic.items():\n",
    "        if n == -1:\n",
    "            num +=1 \n",
    "    return num"
   ]
  },
  {
   "cell_type": "code",
   "execution_count": 4,
   "metadata": {},
   "outputs": [
    {
     "data": {
      "text/plain": [
       "90"
      ]
     },
     "execution_count": 4,
     "metadata": {},
     "output_type": "execute_result"
    }
   ],
   "source": [
    "func(100)"
   ]
  },
  {
   "cell_type": "code",
   "execution_count": null,
   "metadata": {},
   "outputs": [],
   "source": []
  }
 ],
 "metadata": {
  "hide_input": false,
  "kernelspec": {
   "display_name": "Python 3",
   "language": "python",
   "name": "python3"
  },
  "language_info": {
   "codemirror_mode": {
    "name": "ipython",
    "version": 3
   },
   "file_extension": ".py",
   "mimetype": "text/x-python",
   "name": "python",
   "nbconvert_exporter": "python",
   "pygments_lexer": "ipython3",
   "version": "3.8.5"
  },
  "toc": {
   "base_numbering": 1,
   "nav_menu": {},
   "number_sections": true,
   "sideBar": true,
   "skip_h1_title": false,
   "title_cell": "Table of Contents",
   "title_sidebar": "Contents",
   "toc_cell": false,
   "toc_position": {},
   "toc_section_display": true,
   "toc_window_display": true
  }
 },
 "nbformat": 4,
 "nbformat_minor": 2
}
