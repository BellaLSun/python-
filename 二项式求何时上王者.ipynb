{
 "cells": [
  {
   "cell_type": "code",
   "execution_count": 112,
   "metadata": {
    "ExecuteTime": {
     "end_time": "2020-07-02T16:35:42.302672Z",
     "start_time": "2020-07-02T16:35:42.296510Z"
    }
   },
   "outputs": [],
   "source": [
    "import pandas as pd\n",
    "import numpy as np\n",
    "from scipy import stats"
   ]
  },
  {
   "cell_type": "markdown",
   "metadata": {},
   "source": [
    "已知再净赢30局可以达到王者水平，每局胜率为60%，求最少再玩几局可以达到王者水平？"
   ]
  },
  {
   "cell_type": "markdown",
   "metadata": {
    "ExecuteTime": {
     "end_time": "2020-07-02T15:44:25.296570Z",
     "start_time": "2020-07-02T15:44:25.282166Z"
    }
   },
   "source": [
    "设赢x局，输y局，\n",
    "\n",
    "则N:x+y=n,K:x-y=30,p=0.6\n",
    "\n",
    "so x = (30+n)/2， y = (n-30)/2"
   ]
  },
  {
   "cell_type": "markdown",
   "metadata": {},
   "source": [
    "# 二项式分布定义"
   ]
  },
  {
   "cell_type": "markdown",
   "metadata": {},
   "source": [
    "![Image of Yaktocat](https://www.23bei.com/tool_inc/toolimg/10/928.png)"
   ]
  },
  {
   "cell_type": "markdown",
   "metadata": {},
   "source": [
    "https://baike.baidu.com/item/%E4%BA%8C%E9%A1%B9%E5%88%86%E5%B8%83/1442377?fromtitle=%E4%BA%8C%E9%A1%B9%E5%BC%8F%E5%88%86%E5%B8%83&fromid=3565421"
   ]
  },
  {
   "cell_type": "markdown",
   "metadata": {},
   "source": [
    "![Image of Yaktocat](https://bkimg.cdn.bcebos.com/pic/d043ad4bd11373f08202a38d78475cfbfbedab64aec2?x-bce-process=image/watermark,g_7,image_d2F0ZXIvYmFpa2UxNTA=,xp_5,yp_5)"
   ]
  },
  {
   "cell_type": "markdown",
   "metadata": {},
   "source": [
    "如果p>0.5，则向右偏；如果p<0.5，则向左偏；\n",
    "\n",
    "pdf最大也不可能是1."
   ]
  },
  {
   "cell_type": "markdown",
   "metadata": {},
   "source": [
    "## 解法1 - 构造二项式函数"
   ]
  },
  {
   "cell_type": "code",
   "execution_count": 113,
   "metadata": {
    "ExecuteTime": {
     "end_time": "2020-07-02T16:35:43.048543Z",
     "start_time": "2020-07-02T16:35:43.034616Z"
    }
   },
   "outputs": [
    {
     "data": {
      "text/plain": [
       "6"
      ]
     },
     "execution_count": 113,
     "metadata": {},
     "output_type": "execute_result"
    }
   ],
   "source": [
    "np.math.factorial(3)"
   ]
  },
  {
   "cell_type": "code",
   "execution_count": 114,
   "metadata": {
    "ExecuteTime": {
     "end_time": "2020-07-02T16:35:43.546841Z",
     "start_time": "2020-07-02T16:35:43.537118Z"
    }
   },
   "outputs": [
    {
     "data": {
      "text/plain": [
       "8.0"
      ]
     },
     "execution_count": 114,
     "metadata": {},
     "output_type": "execute_result"
    }
   ],
   "source": [
    "np.math.pow(2,3)"
   ]
  },
  {
   "cell_type": "code",
   "execution_count": 117,
   "metadata": {
    "ExecuteTime": {
     "end_time": "2020-07-02T16:35:37.678881Z",
     "start_time": "2020-07-02T16:35:37.671292Z"
    }
   },
   "outputs": [],
   "source": [
    "def binomial_(n,k,p): # pdf\n",
    "    cn = np.math.factorial(n)\n",
    "    # k为赢的次数，而真正赢的次数不是30，而是x\n",
    "    k=int((n+k)/2)\n",
    "    ck = np.math.factorial(n-k)*np.math.factorial(k)\n",
    "    pk = np.math.pow(p,k)*np.math.pow((1-p),(n-k))\n",
    "    result =cn/ck*pk\n",
    "    return result"
   ]
  },
  {
   "cell_type": "code",
   "execution_count": 118,
   "metadata": {
    "ExecuteTime": {
     "end_time": "2020-07-02T16:35:38.337048Z",
     "start_time": "2020-07-02T16:35:38.328206Z"
    }
   },
   "outputs": [
    {
     "data": {
      "text/html": [
       "<div>\n",
       "<style scoped>\n",
       "    .dataframe tbody tr th:only-of-type {\n",
       "        vertical-align: middle;\n",
       "    }\n",
       "\n",
       "    .dataframe tbody tr th {\n",
       "        vertical-align: top;\n",
       "    }\n",
       "\n",
       "    .dataframe thead th {\n",
       "        text-align: right;\n",
       "    }\n",
       "</style>\n",
       "<table border=\"1\" class=\"dataframe\">\n",
       "  <thead>\n",
       "    <tr style=\"text-align: right;\">\n",
       "      <th></th>\n",
       "      <th>result</th>\n",
       "      <th>n</th>\n",
       "    </tr>\n",
       "  </thead>\n",
       "  <tbody>\n",
       "    <tr>\n",
       "      <th>0</th>\n",
       "      <td>0.000003</td>\n",
       "      <td>31</td>\n",
       "    </tr>\n",
       "    <tr>\n",
       "      <th>1</th>\n",
       "      <td>0.000002</td>\n",
       "      <td>32</td>\n",
       "    </tr>\n",
       "    <tr>\n",
       "      <th>2</th>\n",
       "      <td>0.000011</td>\n",
       "      <td>33</td>\n",
       "    </tr>\n",
       "    <tr>\n",
       "      <th>3</th>\n",
       "      <td>0.000007</td>\n",
       "      <td>34</td>\n",
       "    </tr>\n",
       "    <tr>\n",
       "      <th>4</th>\n",
       "      <td>0.000033</td>\n",
       "      <td>35</td>\n",
       "    </tr>\n",
       "  </tbody>\n",
       "</table>\n",
       "</div>"
      ],
      "text/plain": [
       "     result   n\n",
       "0  0.000003  31\n",
       "1  0.000002  32\n",
       "2  0.000011  33\n",
       "3  0.000007  34\n",
       "4  0.000033  35"
      ]
     },
     "execution_count": 118,
     "metadata": {},
     "output_type": "execute_result"
    }
   ],
   "source": [
    "result = []\n",
    "index = []\n",
    "for i in range(1,100):\n",
    "    result.append(binomial_(30+i,30,0.6))\n",
    "    index.append(30+i)\n",
    "\n",
    "df = pd.DataFrame({'result':result,'n':index})\n",
    "df.head()"
   ]
  },
  {
   "cell_type": "code",
   "execution_count": 119,
   "metadata": {},
   "outputs": [
    {
     "data": {
      "text/plain": [
       "98"
      ]
     },
     "execution_count": 119,
     "metadata": {},
     "output_type": "execute_result"
    }
   ],
   "source": [
    "df['result'].idxmax()"
   ]
  },
  {
   "cell_type": "code",
   "execution_count": 120,
   "metadata": {},
   "outputs": [
    {
     "data": {
      "text/plain": [
       "49"
      ]
     },
     "execution_count": 120,
     "metadata": {},
     "output_type": "execute_result"
    }
   ],
   "source": [
    "df['n'][18]"
   ]
  },
  {
   "cell_type": "code",
   "execution_count": 121,
   "metadata": {},
   "outputs": [
    {
     "name": "stdout",
     "output_type": "stream",
     "text": [
      "最少再玩129局可以上王者,最少净赢79局/输50局可以上王者,\n"
     ]
    }
   ],
   "source": [
    "index = df['result'].idxmax()\n",
    "n = df['n'][index]\n",
    "x = int((30+n)/2)\n",
    "y = n-x\n",
    "print('最少再玩{}局可以上王者,最少净赢{}局/输{}局可以上王者,'.format(n,x,y))"
   ]
  },
  {
   "cell_type": "markdown",
   "metadata": {},
   "source": [
    "## 解法2 - ❌"
   ]
  },
  {
   "cell_type": "markdown",
   "metadata": {},
   "source": [
    "已知再净赢30局可以达到王者水平，每局胜率为60%，也就是说，净胜率 = 0.1, k = 30, 求N"
   ]
  },
  {
   "cell_type": "markdown",
   "metadata": {},
   "source": [
    "由于伯努利分布的含义：一个非常简单的试验是只有两个可能结果的试验，比如正面或反面，成功或失败，有缺陷或没有缺陷，病人康复或未康复。为方便起见，记这两个可能的结果为0和1，下面的定义就是建立在这类试验基础之上的。\n",
    "\n",
    "因此，0.9是没有含义的，因此不可以这样应用二项式分布的公式。"
   ]
  },
  {
   "cell_type": "code",
   "execution_count": 108,
   "metadata": {},
   "outputs": [
    {
     "data": {
      "text/html": [
       "<div>\n",
       "<style scoped>\n",
       "    .dataframe tbody tr th:only-of-type {\n",
       "        vertical-align: middle;\n",
       "    }\n",
       "\n",
       "    .dataframe tbody tr th {\n",
       "        vertical-align: top;\n",
       "    }\n",
       "\n",
       "    .dataframe thead th {\n",
       "        text-align: right;\n",
       "    }\n",
       "</style>\n",
       "<table border=\"1\" class=\"dataframe\">\n",
       "  <thead>\n",
       "    <tr style=\"text-align: right;\">\n",
       "      <th></th>\n",
       "      <th>result</th>\n",
       "      <th>n</th>\n",
       "    </tr>\n",
       "  </thead>\n",
       "  <tbody>\n",
       "    <tr>\n",
       "      <th>0</th>\n",
       "      <td>2.790000e-29</td>\n",
       "      <td>31</td>\n",
       "    </tr>\n",
       "    <tr>\n",
       "      <th>1</th>\n",
       "      <td>4.017600e-28</td>\n",
       "      <td>32</td>\n",
       "    </tr>\n",
       "    <tr>\n",
       "      <th>2</th>\n",
       "      <td>3.977424e-27</td>\n",
       "      <td>33</td>\n",
       "    </tr>\n",
       "    <tr>\n",
       "      <th>3</th>\n",
       "      <td>3.042729e-26</td>\n",
       "      <td>34</td>\n",
       "    </tr>\n",
       "    <tr>\n",
       "      <th>4</th>\n",
       "      <td>1.916919e-25</td>\n",
       "      <td>35</td>\n",
       "    </tr>\n",
       "  </tbody>\n",
       "</table>\n",
       "</div>"
      ],
      "text/plain": [
       "         result   n\n",
       "0  2.790000e-29  31\n",
       "1  4.017600e-28  32\n",
       "2  3.977424e-27  33\n",
       "3  3.042729e-26  34\n",
       "4  1.916919e-25  35"
      ]
     },
     "execution_count": 108,
     "metadata": {},
     "output_type": "execute_result"
    }
   ],
   "source": [
    "result = []\n",
    "index = []\n",
    "for i in range(1,100):\n",
    "    result.append(binomial_(30+i,30,0.1))\n",
    "    index.append(30+i)\n",
    "\n",
    "df = pd.DataFrame({'result':result,'n':index})\n",
    "df.head()"
   ]
  },
  {
   "cell_type": "code",
   "execution_count": 109,
   "metadata": {
    "ExecuteTime": {
     "end_time": "2020-07-02T16:34:17.017821Z",
     "start_time": "2020-07-02T16:34:16.965443Z"
    }
   },
   "outputs": [
    {
     "name": "stdout",
     "output_type": "stream",
     "text": [
      "最少再玩129局可以上王者\n"
     ]
    }
   ],
   "source": [
    "index = df['result'].idxmax()\n",
    "n = df['n'][index]\n",
    "print('最少再玩{}局可以上王者'.format(n))"
   ]
  },
  {
   "cell_type": "markdown",
   "metadata": {},
   "source": [
    "**注意⚠️**"
   ]
  },
  {
   "cell_type": "markdown",
   "metadata": {},
   "source": [
    "# 解法3 - scipy stats"
   ]
  },
  {
   "cell_type": "markdown",
   "metadata": {},
   "source": [
    "## 公式学习"
   ]
  },
  {
   "cell_type": "markdown",
   "metadata": {},
   "source": [
    "生成符合二项分布b(100,0.5)的随机数"
   ]
  },
  {
   "cell_type": "code",
   "execution_count": 19,
   "metadata": {
    "ExecuteTime": {
     "end_time": "2020-07-02T16:42:23.263778Z",
     "start_time": "2020-07-02T16:42:23.253497Z"
    }
   },
   "outputs": [
    {
     "data": {
      "text/plain": [
       "array([51, 42, 41, 44, 43, 52, 54, 49, 49, 49, 55, 61, 43, 46, 45, 49, 53,\n",
       "       49, 48, 48, 45, 50, 51, 47, 58, 56, 57, 48, 54, 62, 54, 51, 43, 52,\n",
       "       56, 48, 48, 52, 47, 38, 53, 58, 51, 51, 56, 50, 51, 50, 49, 56, 59,\n",
       "       45, 44, 60, 51, 51, 50, 47, 52, 56, 48, 50, 52, 51, 46, 50, 52, 48,\n",
       "       48, 57, 57, 57, 49, 60, 55, 52, 49, 50, 42, 53, 62, 54, 55, 50, 51,\n",
       "       56, 44, 45, 42, 52, 44, 47, 49, 44, 58, 56, 54, 60, 48, 42])"
      ]
     },
     "execution_count": 19,
     "metadata": {},
     "output_type": "execute_result"
    }
   ],
   "source": [
    "np.random.binomial(100,0.5,100) # 100 试验次数， 0.5 事件发生概率 100 随机取出试验真实数据个数"
   ]
  },
  {
   "cell_type": "markdown",
   "metadata": {},
   "source": [
    "**二项分布概率质量函数**\n",
    "\n",
    "求掷硬币（正反面概率均为0.5），100次正面朝上20次的概率。"
   ]
  },
  {
   "cell_type": "code",
   "execution_count": 20,
   "metadata": {
    "ExecuteTime": {
     "end_time": "2020-07-02T16:42:41.618021Z",
     "start_time": "2020-07-02T16:42:41.599299Z"
    }
   },
   "outputs": [
    {
     "data": {
      "text/plain": [
       "4.228163267601253e-10"
      ]
     },
     "execution_count": 20,
     "metadata": {},
     "output_type": "execute_result"
    }
   ],
   "source": [
    "stats.binom.pmf(20,100,0.5) # 20 达成目标的试验次数， 100总次数， 0.5 达成目标的概率"
   ]
  },
  {
   "cell_type": "code",
   "execution_count": 21,
   "metadata": {
    "ExecuteTime": {
     "end_time": "2020-07-02T16:42:56.037662Z",
     "start_time": "2020-07-02T16:42:56.030066Z"
    }
   },
   "outputs": [
    {
     "data": {
      "text/plain": [
       "0.07958923738717888"
      ]
     },
     "execution_count": 21,
     "metadata": {},
     "output_type": "execute_result"
    }
   ],
   "source": [
    "stats.binom.pmf(50,100,0.5) # 20 达成目标的试验次数， 100总次数， 0.5 达成目标的概率"
   ]
  },
  {
   "cell_type": "markdown",
   "metadata": {},
   "source": [
    "**二项分布概率累计分布函数**\n",
    "\n",
    "求掷硬币，投100次，正面朝上次数<=20次的概率"
   ]
  },
  {
   "cell_type": "code",
   "execution_count": 22,
   "metadata": {
    "ExecuteTime": {
     "end_time": "2020-07-02T16:45:19.660380Z",
     "start_time": "2020-07-02T16:45:19.650391Z"
    }
   },
   "outputs": [
    {
     "data": {
      "text/plain": [
       "0.5397946186935751"
      ]
     },
     "execution_count": 22,
     "metadata": {},
     "output_type": "execute_result"
    }
   ],
   "source": [
    "p = stats.binom.pmf(np.arange(0,51,1),100,0.5)\n",
    "p.sum()"
   ]
  },
  {
   "cell_type": "code",
   "execution_count": 23,
   "metadata": {
    "ExecuteTime": {
     "end_time": "2020-07-02T16:45:42.439074Z",
     "start_time": "2020-07-02T16:45:42.429846Z"
    }
   },
   "outputs": [
    {
     "data": {
      "text/plain": [
       "0.5397946186935897"
      ]
     },
     "execution_count": 23,
     "metadata": {},
     "output_type": "execute_result"
    }
   ],
   "source": [
    "#cdf 求解累计密度函数\n",
    "stats.binom.cdf(50,100,0.5)"
   ]
  },
  {
   "cell_type": "code",
   "execution_count": 24,
   "metadata": {
    "ExecuteTime": {
     "end_time": "2020-07-02T16:48:24.952149Z",
     "start_time": "2020-07-02T16:48:24.942760Z"
    }
   },
   "outputs": [
    {
     "data": {
      "text/plain": [
       "0.9999999999999999"
      ]
     },
     "execution_count": 24,
     "metadata": {},
     "output_type": "execute_result"
    }
   ],
   "source": [
    "#cdf 求解累计密度函数\n",
    "stats.binom.cdf(90,100,0.5)"
   ]
  },
  {
   "cell_type": "code",
   "execution_count": 25,
   "metadata": {
    "ExecuteTime": {
     "end_time": "2020-07-02T16:49:35.074077Z",
     "start_time": "2020-07-02T16:49:35.063334Z"
    }
   },
   "outputs": [
    {
     "data": {
      "text/plain": [
       "0.9844273764766717"
      ]
     },
     "execution_count": 25,
     "metadata": {},
     "output_type": "execute_result"
    }
   ],
   "source": [
    "stats.binom.cdf(30,40,0.6)"
   ]
  },
  {
   "cell_type": "markdown",
   "metadata": {},
   "source": [
    "## 例题"
   ]
  },
  {
   "cell_type": "markdown",
   "metadata": {},
   "source": [
    "张三参加英语雅思考试，每次考试通过的概率为1/3，不通过的概率为2/3。如果他连续考试4次，那么恰好通过2次的概率为多少？"
   ]
  },
  {
   "cell_type": "code",
   "execution_count": 26,
   "metadata": {},
   "outputs": [
    {
     "data": {
      "text/plain": [
       "0.29629629629629634"
      ]
     },
     "execution_count": 26,
     "metadata": {},
     "output_type": "execute_result"
    }
   ],
   "source": [
    "stats.binom.pmf(2,4,1/3) "
   ]
  },
  {
   "cell_type": "code",
   "execution_count": 32,
   "metadata": {},
   "outputs": [
    {
     "name": "stdout",
     "output_type": "stream",
     "text": [
      "考试恰巧通过1次的概率为0.3950617283950619\n",
      "考试恰巧通过2次的概率为0.29629629629629634\n",
      "考试恰巧通过3次的概率为0.09876543209876547\n",
      "考试恰巧通过4次的概率为0.012345679012345675\n"
     ]
    }
   ],
   "source": [
    "for i in range(1,5):\n",
    "    p = stats.binom.pmf(i,4,1/3) \n",
    "    print('考试恰巧通过{}次的概率为{}'.format(i,p))"
   ]
  },
  {
   "cell_type": "markdown",
   "metadata": {},
   "source": [
    "张三参加英语雅思考试，每次考试通过的概率为1/3，不通过的概率为2/3。如果他连续考试4次，那么通过<=2次的概率为多少？"
   ]
  },
  {
   "cell_type": "code",
   "execution_count": 27,
   "metadata": {},
   "outputs": [
    {
     "data": {
      "text/plain": [
       "0.888888888888889"
      ]
     },
     "execution_count": 27,
     "metadata": {},
     "output_type": "execute_result"
    }
   ],
   "source": [
    "stats.binom.cdf(2,4,1/3)"
   ]
  },
  {
   "cell_type": "code",
   "execution_count": 34,
   "metadata": {},
   "outputs": [
    {
     "name": "stdout",
     "output_type": "stream",
     "text": [
      "考试通过<=0次的概率为0.19753086419753096\n",
      "考试通过<=1次的概率为0.5925925925925928\n",
      "考试通过<=2次的概率为0.888888888888889\n",
      "考试通过<=3次的概率为0.9876543209876544\n",
      "考试通过<=4次的概率为1.0\n"
     ]
    }
   ],
   "source": [
    "for i in range(0,5):\n",
    "    p = stats.binom.cdf(i,4,1/3) \n",
    "    print('考试通过<={}次的概率为{}'.format(i,p))"
   ]
  },
  {
   "cell_type": "markdown",
   "metadata": {},
   "source": [
    "## 应用"
   ]
  },
  {
   "cell_type": "code",
   "execution_count": 124,
   "metadata": {
    "ExecuteTime": {
     "end_time": "2020-07-02T16:50:10.679608Z",
     "start_time": "2020-07-02T16:50:10.670682Z"
    }
   },
   "outputs": [
    {
     "data": {
      "text/html": [
       "<div>\n",
       "<style scoped>\n",
       "    .dataframe tbody tr th:only-of-type {\n",
       "        vertical-align: middle;\n",
       "    }\n",
       "\n",
       "    .dataframe tbody tr th {\n",
       "        vertical-align: top;\n",
       "    }\n",
       "\n",
       "    .dataframe thead th {\n",
       "        text-align: right;\n",
       "    }\n",
       "</style>\n",
       "<table border=\"1\" class=\"dataframe\">\n",
       "  <thead>\n",
       "    <tr style=\"text-align: right;\">\n",
       "      <th></th>\n",
       "      <th>result</th>\n",
       "      <th>n</th>\n",
       "    </tr>\n",
       "  </thead>\n",
       "  <tbody>\n",
       "    <tr>\n",
       "      <th>0</th>\n",
       "      <td>0.000003</td>\n",
       "      <td>31</td>\n",
       "    </tr>\n",
       "    <tr>\n",
       "      <th>1</th>\n",
       "      <td>0.000002</td>\n",
       "      <td>32</td>\n",
       "    </tr>\n",
       "    <tr>\n",
       "      <th>2</th>\n",
       "      <td>0.000011</td>\n",
       "      <td>33</td>\n",
       "    </tr>\n",
       "    <tr>\n",
       "      <th>3</th>\n",
       "      <td>0.000007</td>\n",
       "      <td>34</td>\n",
       "    </tr>\n",
       "    <tr>\n",
       "      <th>4</th>\n",
       "      <td>0.000033</td>\n",
       "      <td>35</td>\n",
       "    </tr>\n",
       "  </tbody>\n",
       "</table>\n",
       "</div>"
      ],
      "text/plain": [
       "     result   n\n",
       "0  0.000003  31\n",
       "1  0.000002  32\n",
       "2  0.000011  33\n",
       "3  0.000007  34\n",
       "4  0.000033  35"
      ]
     },
     "execution_count": 124,
     "metadata": {},
     "output_type": "execute_result"
    }
   ],
   "source": [
    "result = []\n",
    "index = []\n",
    "for i in range(1,100):\n",
    "    n = 30+i\n",
    "    k = int((30+n)/2)\n",
    "    result.append(stats.binom.pmf(k,n,0.6))\n",
    "    index.append(n)\n",
    "    \n",
    "\n",
    "df = pd.DataFrame({'result':result,'n':index})\n",
    "df.head()"
   ]
  },
  {
   "cell_type": "code",
   "execution_count": 125,
   "metadata": {},
   "outputs": [
    {
     "name": "stdout",
     "output_type": "stream",
     "text": [
      "最少再玩129局可以上王者,最少净赢79局/输50局可以上王者,\n"
     ]
    }
   ],
   "source": [
    "index = df['result'].idxmax()\n",
    "n = df['n'][index]\n",
    "x = int((30+n)/2)\n",
    "y = n-x\n",
    "print('最少再玩{}局可以上王者,最少净赢{}局/输{}局可以上王者,'.format(n,x,y))"
   ]
  },
  {
   "cell_type": "markdown",
   "metadata": {},
   "source": [
    "# 数学期望"
   ]
  },
  {
   "cell_type": "markdown",
   "metadata": {},
   "source": [
    "设赢x局，输y局，共玩n局，p=0.6"
   ]
  },
  {
   "cell_type": "markdown",
   "metadata": {},
   "source": [
    "0.6n - 0.4n = 30\n",
    "\n",
    "0.2n=30\n",
    "\n",
    "n = 150"
   ]
  },
  {
   "cell_type": "markdown",
   "metadata": {},
   "source": [
    "最少再玩150局可以上王者."
   ]
  },
  {
   "cell_type": "markdown",
   "metadata": {},
   "source": [
    "# 可视化"
   ]
  },
  {
   "cell_type": "code",
   "execution_count": 118,
   "metadata": {
    "ExecuteTime": {
     "end_time": "2020-07-02T16:39:28.256837Z",
     "start_time": "2020-07-02T16:39:27.254252Z"
    }
   },
   "outputs": [],
   "source": [
    "from scipy import stats"
   ]
  },
  {
   "cell_type": "code",
   "execution_count": 103,
   "metadata": {
    "ExecuteTime": {
     "end_time": "2020-07-02T16:40:06.616253Z",
     "start_time": "2020-07-02T16:40:06.601243Z"
    }
   },
   "outputs": [
    {
     "data": {
      "text/plain": [
       "4.228163267601253e-10"
      ]
     },
     "execution_count": 103,
     "metadata": {},
     "output_type": "execute_result"
    }
   ],
   "source": [
    "stats.binom.pmf(20,100,0.5)"
   ]
  },
  {
   "cell_type": "code",
   "execution_count": null,
   "metadata": {},
   "outputs": [],
   "source": []
  }
 ],
 "metadata": {
  "hide_input": false,
  "kernelspec": {
   "display_name": "Python 3",
   "language": "python",
   "name": "python3"
  },
  "language_info": {
   "codemirror_mode": {
    "name": "ipython",
    "version": 3
   },
   "file_extension": ".py",
   "mimetype": "text/x-python",
   "name": "python",
   "nbconvert_exporter": "python",
   "pygments_lexer": "ipython3",
   "version": "3.7.4"
  },
  "toc": {
   "base_numbering": 1,
   "nav_menu": {},
   "number_sections": true,
   "sideBar": true,
   "skip_h1_title": false,
   "title_cell": "Table of Contents",
   "title_sidebar": "Contents",
   "toc_cell": false,
   "toc_position": {
    "height": "calc(100% - 180px)",
    "left": "10px",
    "top": "150px",
    "width": "239px"
   },
   "toc_section_display": true,
   "toc_window_display": true
  }
 },
 "nbformat": 4,
 "nbformat_minor": 2
}
